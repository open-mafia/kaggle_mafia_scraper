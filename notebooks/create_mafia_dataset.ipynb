{
 "cells": [
  {
   "cell_type": "markdown",
   "metadata": {},
   "source": [
    "# Creates the Mafia problem datasets (train, public and private test)"
   ]
  },
  {
   "cell_type": "code",
   "execution_count": 1,
   "metadata": {},
   "outputs": [],
   "source": [
    "import os  \n",
    "import logging \n",
    "import numpy as np\n",
    "import pandas as pd"
   ]
  },
  {
   "cell_type": "code",
   "execution_count": 2,
   "metadata": {},
   "outputs": [],
   "source": [
    "#from bay12_scraper.thread import ForumThread\n",
    "from bay12_scraper.prep.mafia_ds import load_or_create_posts, fix_roles_df, split_ds"
   ]
  },
  {
   "cell_type": "code",
   "execution_count": 3,
   "metadata": {},
   "outputs": [],
   "source": [
    "output = os.path.abspath( os.path.join('..', 'output') )"
   ]
  },
  {
   "cell_type": "markdown",
   "metadata": {},
   "source": [
    "## Preparing full posts"
   ]
  },
  {
   "cell_type": "code",
   "execution_count": 4,
   "metadata": {},
   "outputs": [],
   "source": [
    "# Load threads\n",
    "threads = pd.read_csv(os.path.join(output, 'threads.csv'), header=0, encoding='utf-8')\n",
    "threads = threads[threads.thread_label.isin(['beginners-mafia', 'vanilla'])]"
   ]
  },
  {
   "cell_type": "code",
   "execution_count": 5,
   "metadata": {},
   "outputs": [
    {
     "name": "stderr",
     "output_type": "stream",
     "text": [
      "d:\\repos\\kaggle_mafia\\kaggle_mafia_scraper\\src\\bay12_scraper\\prep\\mafia_ds.py:79: SettingWithCopyWarning: \n",
      "A value is trying to be set on a copy of a slice from a DataFrame\n",
      "\n",
      "See the caveats in the documentation: http://pandas.pydata.org/pandas-docs/stable/indexing.html#indexing-view-versus-copy\n",
      "  df_fixed['final_player'][~tbr] = df_fixed['user'][~tbr]\n"
     ]
    }
   ],
   "source": [
    "# Load roles\n",
    "roles_raw = pd.read_csv(os.path.join(output, 'roles.csv'), header=0, encoding='utf-8')\n",
    "roles = fix_roles_df(roles_raw)"
   ]
  },
  {
   "cell_type": "code",
   "execution_count": null,
   "metadata": {},
   "outputs": [],
   "source": []
  },
  {
   "cell_type": "code",
   "execution_count": 6,
   "metadata": {},
   "outputs": [],
   "source": [
    "# Load posts (note that creation can take a long time)\n",
    "posts = load_or_create_posts(os.path.join(output, 'posts.csv'), roles, threads)"
   ]
  },
  {
   "cell_type": "code",
   "execution_count": 7,
   "metadata": {},
   "outputs": [
    {
     "data": {
      "text/plain": [
       "(Index(['thread_num', 'user', 'text', 'quotes'], dtype='object'),\n",
       " Index(['thread_num', 'user', 'role', 'num_posts', 'replaced_by',\n",
       "        'replacement_depth', 'final_player'],\n",
       "       dtype='object'))"
      ]
     },
     "execution_count": 7,
     "metadata": {},
     "output_type": "execute_result"
    }
   ],
   "source": [
    "posts.columns, roles.columns"
   ]
  },
  {
   "cell_type": "code",
   "execution_count": 8,
   "metadata": {},
   "outputs": [
    {
     "data": {
      "text/html": [
       "<div>\n",
       "<style scoped>\n",
       "    .dataframe tbody tr th:only-of-type {\n",
       "        vertical-align: middle;\n",
       "    }\n",
       "\n",
       "    .dataframe tbody tr th {\n",
       "        vertical-align: top;\n",
       "    }\n",
       "\n",
       "    .dataframe thead th {\n",
       "        text-align: right;\n",
       "    }\n",
       "</style>\n",
       "<table border=\"1\" class=\"dataframe\">\n",
       "  <thead>\n",
       "    <tr style=\"text-align: right;\">\n",
       "      <th></th>\n",
       "      <th>thread_num</th>\n",
       "      <th>user</th>\n",
       "      <th>text</th>\n",
       "      <th>role</th>\n",
       "      <th>num_posts</th>\n",
       "      <th>quotes</th>\n",
       "      <th>final_player</th>\n",
       "    </tr>\n",
       "  </thead>\n",
       "  <tbody>\n",
       "    <tr>\n",
       "      <th>16</th>\n",
       "      <td>39457</td>\n",
       "      <td>Alexhans</td>\n",
       "      <td>I'll co-mod this one if meph doesn't mind... H...</td>\n",
       "      <td>observer</td>\n",
       "      <td>25</td>\n",
       "      <td>[]</td>\n",
       "      <td>Alexhans</td>\n",
       "    </tr>\n",
       "    <tr>\n",
       "      <th>18</th>\n",
       "      <td>39457</td>\n",
       "      <td>Alexhans</td>\n",
       "      <td>I suggest randomly choosing between this 4 set...</td>\n",
       "      <td>observer</td>\n",
       "      <td>25</td>\n",
       "      <td>[]</td>\n",
       "      <td>Alexhans</td>\n",
       "    </tr>\n",
       "    <tr>\n",
       "      <th>31</th>\n",
       "      <td>39457</td>\n",
       "      <td>Alexhans</td>\n",
       "      <td>Meph... this game needs to be non pm-free... \\...</td>\n",
       "      <td>observer</td>\n",
       "      <td>25</td>\n",
       "      <td>[]</td>\n",
       "      <td>Alexhans</td>\n",
       "    </tr>\n",
       "    <tr>\n",
       "      <th>57</th>\n",
       "      <td>39457</td>\n",
       "      <td>Alexhans</td>\n",
       "      <td>not really...\\r\\r\\n\\r\\r\\nit says that it can b...</td>\n",
       "      <td>observer</td>\n",
       "      <td>25</td>\n",
       "      <td>[]</td>\n",
       "      <td>Alexhans</td>\n",
       "    </tr>\n",
       "    <tr>\n",
       "      <th>59</th>\n",
       "      <td>39457</td>\n",
       "      <td>Alexhans</td>\n",
       "      <td>yes, that's why I strongly suggested the mod t...</td>\n",
       "      <td>observer</td>\n",
       "      <td>25</td>\n",
       "      <td>[]</td>\n",
       "      <td>Alexhans</td>\n",
       "    </tr>\n",
       "  </tbody>\n",
       "</table>\n",
       "</div>"
      ],
      "text/plain": [
       "    thread_num      user                                               text  \\\n",
       "16       39457  Alexhans  I'll co-mod this one if meph doesn't mind... H...   \n",
       "18       39457  Alexhans  I suggest randomly choosing between this 4 set...   \n",
       "31       39457  Alexhans  Meph... this game needs to be non pm-free... \\...   \n",
       "57       39457  Alexhans  not really...\\r\\r\\n\\r\\r\\nit says that it can b...   \n",
       "59       39457  Alexhans  yes, that's why I strongly suggested the mod t...   \n",
       "\n",
       "        role  num_posts quotes final_player  \n",
       "16  observer         25     []     Alexhans  \n",
       "18  observer         25     []     Alexhans  \n",
       "31  observer         25     []     Alexhans  \n",
       "57  observer         25     []     Alexhans  \n",
       "59  observer         25     []     Alexhans  "
      ]
     },
     "execution_count": 8,
     "metadata": {},
     "output_type": "execute_result"
    }
   ],
   "source": [
    "# The \"full\" dataframe, but we won't be using it directly\n",
    "pp = (\n",
    "    posts\n",
    "    .merge(roles, on=['thread_num', 'user'], how='left')\n",
    ")[['thread_num', 'user','text', 'role', 'num_posts', 'quotes', 'final_player']]\n",
    "pp.sort_values(['thread_num', 'user']).head()"
   ]
  },
  {
   "cell_type": "code",
   "execution_count": 9,
   "metadata": {},
   "outputs": [
    {
     "data": {
      "text/html": [
       "<div>\n",
       "<style scoped>\n",
       "    .dataframe tbody tr th:only-of-type {\n",
       "        vertical-align: middle;\n",
       "    }\n",
       "\n",
       "    .dataframe tbody tr th {\n",
       "        vertical-align: top;\n",
       "    }\n",
       "\n",
       "    .dataframe thead th {\n",
       "        text-align: right;\n",
       "    }\n",
       "</style>\n",
       "<table border=\"1\" class=\"dataframe\">\n",
       "  <thead>\n",
       "    <tr style=\"text-align: right;\">\n",
       "      <th></th>\n",
       "      <th>thread_num</th>\n",
       "      <th>user</th>\n",
       "      <th>role</th>\n",
       "      <th>num_posts</th>\n",
       "      <th>replaced_by</th>\n",
       "      <th>replacement_depth</th>\n",
       "      <th>final_player</th>\n",
       "    </tr>\n",
       "  </thead>\n",
       "  <tbody>\n",
       "    <tr>\n",
       "      <th>745</th>\n",
       "      <td>39457</td>\n",
       "      <td>Alexhans</td>\n",
       "      <td>observer</td>\n",
       "      <td>25</td>\n",
       "      <td>NaN</td>\n",
       "      <td>0</td>\n",
       "      <td>Alexhans</td>\n",
       "    </tr>\n",
       "    <tr>\n",
       "      <th>746</th>\n",
       "      <td>39457</td>\n",
       "      <td>BloodBeard</td>\n",
       "      <td>town</td>\n",
       "      <td>34</td>\n",
       "      <td>NaN</td>\n",
       "      <td>0</td>\n",
       "      <td>BloodBeard</td>\n",
       "    </tr>\n",
       "    <tr>\n",
       "      <th>747</th>\n",
       "      <td>39457</td>\n",
       "      <td>Dariush</td>\n",
       "      <td>observer</td>\n",
       "      <td>2</td>\n",
       "      <td>NaN</td>\n",
       "      <td>0</td>\n",
       "      <td>Dariush</td>\n",
       "    </tr>\n",
       "    <tr>\n",
       "      <th>748</th>\n",
       "      <td>39457</td>\n",
       "      <td>Eduren</td>\n",
       "      <td>town</td>\n",
       "      <td>79</td>\n",
       "      <td>NaN</td>\n",
       "      <td>0</td>\n",
       "      <td>Eduren</td>\n",
       "    </tr>\n",
       "    <tr>\n",
       "      <th>749</th>\n",
       "      <td>39457</td>\n",
       "      <td>Free Beer</td>\n",
       "      <td>mafia</td>\n",
       "      <td>54</td>\n",
       "      <td>NaN</td>\n",
       "      <td>0</td>\n",
       "      <td>Free Beer</td>\n",
       "    </tr>\n",
       "  </tbody>\n",
       "</table>\n",
       "</div>"
      ],
      "text/plain": [
       "     thread_num        user      role  num_posts replaced_by  \\\n",
       "745       39457    Alexhans  observer         25         NaN   \n",
       "746       39457  BloodBeard      town         34         NaN   \n",
       "747       39457     Dariush  observer          2         NaN   \n",
       "748       39457      Eduren      town         79         NaN   \n",
       "749       39457   Free Beer     mafia         54         NaN   \n",
       "\n",
       "     replacement_depth final_player  \n",
       "745                  0     Alexhans  \n",
       "746                  0   BloodBeard  \n",
       "747                  0      Dariush  \n",
       "748                  0       Eduren  \n",
       "749                  0    Free Beer  "
      ]
     },
     "execution_count": 9,
     "metadata": {},
     "output_type": "execute_result"
    }
   ],
   "source": [
    "roles.sort_values(['thread_num', 'user']).head()"
   ]
  },
  {
   "cell_type": "markdown",
   "metadata": {},
   "source": [
    "## Split into train/test by threads"
   ]
  },
  {
   "cell_type": "code",
   "execution_count": 10,
   "metadata": {},
   "outputs": [],
   "source": [
    "ds = split_ds(roles, posts, 0.2, 0.2)\n",
    "# {'train': [posts_train, roles_train], etc. }"
   ]
  },
  {
   "cell_type": "code",
   "execution_count": 11,
   "metadata": {},
   "outputs": [
    {
     "name": "stdout",
     "output_type": "stream",
     "text": [
      "46 threads, 19889 posts\n",
      "15 threads, 6619 posts\n",
      "15 threads, 6479 posts\n"
     ]
    }
   ],
   "source": [
    "print(\"\\n\".join([\n",
    "    \"%s threads, %s posts\" % (len(ds[z][0].groupby('thread_num').thread_num.count()), len(ds[z][0])) \n",
    "     for z in ['train', 'public', 'private']\n",
    "]))"
   ]
  },
  {
   "cell_type": "markdown",
   "metadata": {},
   "source": [
    "## Export to disk"
   ]
  },
  {
   "cell_type": "code",
   "execution_count": 12,
   "metadata": {},
   "outputs": [],
   "source": [
    "dataset = os.path.join(output, 'dataset', 'ds_mafia') \n",
    "os.makedirs(dataset, exist_ok=True)"
   ]
  },
  {
   "cell_type": "code",
   "execution_count": 13,
   "metadata": {},
   "outputs": [],
   "source": [
    "opts_out = {'encoding': 'utf-8', 'header': True, 'index': False}\n",
    "cols_role = ['thread_num', 'user', 'final_player', 'role']\n",
    "cols_post = list(posts.columns)"
   ]
  },
  {
   "cell_type": "code",
   "execution_count": 14,
   "metadata": {},
   "outputs": [],
   "source": [
    "for z in ['train', 'public', 'private']:\n",
    "    ds[z][0][cols_post].to_csv(os.path.join(dataset, '%s_post.csv' % z), **opts_out)\n",
    "    ds[z][1][cols_role].to_csv(os.path.join(dataset, '%s_role.csv' % z), **opts_out)"
   ]
  },
  {
   "cell_type": "code",
   "execution_count": null,
   "metadata": {},
   "outputs": [],
   "source": []
  }
 ],
 "metadata": {
  "kernelspec": {
   "display_name": "kaggle-bay12",
   "language": "python",
   "name": "kaggle-bay12"
  },
  "language_info": {
   "codemirror_mode": {
    "name": "ipython",
    "version": 3
   },
   "file_extension": ".py",
   "mimetype": "text/x-python",
   "name": "python",
   "nbconvert_exporter": "python",
   "pygments_lexer": "ipython3",
   "version": "3.7.1"
  }
 },
 "nbformat": 4,
 "nbformat_minor": 2
}
