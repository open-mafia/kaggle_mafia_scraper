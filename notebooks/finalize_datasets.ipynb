{
 "cells": [
  {
   "cell_type": "markdown",
   "metadata": {},
   "source": [
    "# Finalizes datasets"
   ]
  },
  {
   "cell_type": "code",
   "execution_count": 1,
   "metadata": {},
   "outputs": [],
   "source": [
    "import os\n",
    "import numpy as np \n",
    "import pandas as pd\n"
   ]
  },
  {
   "cell_type": "code",
   "execution_count": 2,
   "metadata": {},
   "outputs": [],
   "source": [
    "output = os.path.abspath( os.path.join('..', 'output') )"
   ]
  },
  {
   "cell_type": "markdown",
   "metadata": {},
   "source": [
    "-----"
   ]
  },
  {
   "cell_type": "markdown",
   "metadata": {},
   "source": [
    "## EPOSTS dataset"
   ]
  },
  {
   "cell_type": "code",
   "execution_count": 3,
   "metadata": {},
   "outputs": [],
   "source": [
    "ds_eposts = os.path.join(output, 'dataset', 'ds_eposts')"
   ]
  },
  {
   "cell_type": "code",
   "execution_count": 4,
   "metadata": {},
   "outputs": [],
   "source": [
    "os.makedirs(os.path.join(ds_eposts, 'train'), exist_ok=True)\n",
    "os.makedirs(os.path.join(ds_eposts, 'test'), exist_ok=True)"
   ]
  },
  {
   "cell_type": "markdown",
   "metadata": {},
   "source": [
    "### Set labelling scheme"
   ]
  },
  {
   "cell_type": "code",
   "execution_count": 5,
   "metadata": {},
   "outputs": [],
   "source": [
    "epost_lbl = 'thread_label'\n",
    "epost_outcol = 'thread_label_id'\n",
    "epost_usage = 'Usage'"
   ]
  },
  {
   "cell_type": "code",
   "execution_count": 6,
   "metadata": {},
   "outputs": [
    {
     "data": {
      "text/plain": [
       "type_name\n",
       "bastard             0\n",
       "beginners-mafia     1\n",
       "byor                2\n",
       "classic             3\n",
       "closed-setup        4\n",
       "cybrid              5\n",
       "kotm                6\n",
       "non-mafia-game      7\n",
       "other               8\n",
       "paranormal          9\n",
       "supernatural       10\n",
       "vanilla            11\n",
       "vengeful           12\n",
       "Name: type_id, dtype: int64"
      ]
     },
     "execution_count": 6,
     "metadata": {},
     "output_type": "execute_result"
    }
   ],
   "source": [
    "possible_labels_epost = [\n",
    "    'bastard', 'beginners-mafia', 'byor', 'classic', \n",
    "    'closed-setup', 'cybrid', 'kotm', 'non-mafia-game', \n",
    "    'other', 'paranormal', 'supernatural', 'vanilla', 'vengeful'\n",
    "]\n",
    "labels_epost = pd.Series(range(len(possible_labels_epost)), index=possible_labels_epost)\n",
    "labels_epost.name = 'type_id'\n",
    "labels_epost.index.name = 'type_name'\n",
    "labels_epost"
   ]
  },
  {
   "cell_type": "code",
   "execution_count": 7,
   "metadata": {},
   "outputs": [],
   "source": [
    "labels_epost.to_csv(os.path.join(ds_eposts, 'label_map.csv'), header=True, index=True, encoding='utf-8')"
   ]
  },
  {
   "cell_type": "markdown",
   "metadata": {},
   "source": [
    "### Load labels and save into datasets"
   ]
  },
  {
   "cell_type": "code",
   "execution_count": 8,
   "metadata": {},
   "outputs": [],
   "source": [
    "thread_train, thread_public, thread_private = [\n",
    "    pd.read_csv(\n",
    "        os.path.join(ds_eposts, 'raw', '%s_thread_full.csv') % z,\n",
    "        header=0, encoding='utf-8'\n",
    "    )\n",
    "    for z in ['train', 'public', 'private']\n",
    "]\n",
    "thread_public[epost_usage] = 'Public'\n",
    "thread_private[epost_usage] = 'Private'\n",
    "thread_test = pd.concat([thread_public, thread_private], axis='rows')"
   ]
  },
  {
   "cell_type": "code",
   "execution_count": 9,
   "metadata": {},
   "outputs": [],
   "source": [
    "thread_train[epost_outcol] = thread_train[epost_lbl].map(labels_epost)\n",
    "thread_test[epost_outcol] = thread_test[epost_lbl].map(labels_epost)\n",
    "thread_test_censored = thread_test.drop(columns=[epost_lbl, epost_outcol, epost_usage])"
   ]
  },
  {
   "cell_type": "code",
   "execution_count": 10,
   "metadata": {},
   "outputs": [],
   "source": [
    "# Create randomly seeded output\n",
    "epost_rng = np.random.RandomState(seed=42)\n",
    "thread_test_random = thread_test_censored.copy()\n",
    "thread_test_random[epost_outcol] = epost_rng.choice(labels_epost.values, size=len(thread_test_random))"
   ]
  },
  {
   "cell_type": "code",
   "execution_count": 11,
   "metadata": {},
   "outputs": [
    {
     "data": {
      "text/html": [
       "<div>\n",
       "<style scoped>\n",
       "    .dataframe tbody tr th:only-of-type {\n",
       "        vertical-align: middle;\n",
       "    }\n",
       "\n",
       "    .dataframe tbody tr th {\n",
       "        vertical-align: top;\n",
       "    }\n",
       "\n",
       "    .dataframe thead th {\n",
       "        text-align: right;\n",
       "    }\n",
       "</style>\n",
       "<table border=\"1\" class=\"dataframe\">\n",
       "  <thead>\n",
       "    <tr style=\"text-align: right;\">\n",
       "      <th></th>\n",
       "      <th>thread_num</th>\n",
       "      <th>thread_name</th>\n",
       "      <th>thread_replies</th>\n",
       "      <th>thread_label_id</th>\n",
       "    </tr>\n",
       "  </thead>\n",
       "  <tbody>\n",
       "    <tr>\n",
       "      <th>0</th>\n",
       "      <td>126856</td>\n",
       "      <td>Mafia Tools and Utilities (lurkertracker, etc)...</td>\n",
       "      <td>38</td>\n",
       "      <td>6</td>\n",
       "    </tr>\n",
       "    <tr>\n",
       "      <th>1</th>\n",
       "      <td>132415</td>\n",
       "      <td>Mafia Theory</td>\n",
       "      <td>211</td>\n",
       "      <td>3</td>\n",
       "    </tr>\n",
       "    <tr>\n",
       "      <th>2</th>\n",
       "      <td>134482</td>\n",
       "      <td>Iron Diadem, Night One: Things Said Behind Bar...</td>\n",
       "      <td>474</td>\n",
       "      <td>12</td>\n",
       "    </tr>\n",
       "    <tr>\n",
       "      <th>3</th>\n",
       "      <td>133728</td>\n",
       "      <td>Beginner's Mafia XLIV: The Court of Colors | R...</td>\n",
       "      <td>563</td>\n",
       "      <td>10</td>\n",
       "    </tr>\n",
       "    <tr>\n",
       "      <th>4</th>\n",
       "      <td>134270</td>\n",
       "      <td>Mod Use #2</td>\n",
       "      <td>10</td>\n",
       "      <td>7</td>\n",
       "    </tr>\n",
       "  </tbody>\n",
       "</table>\n",
       "</div>"
      ],
      "text/plain": [
       "   thread_num                                        thread_name  \\\n",
       "0      126856  Mafia Tools and Utilities (lurkertracker, etc)...   \n",
       "1      132415                                       Mafia Theory   \n",
       "2      134482  Iron Diadem, Night One: Things Said Behind Bar...   \n",
       "3      133728  Beginner's Mafia XLIV: The Court of Colors | R...   \n",
       "4      134270                                         Mod Use #2   \n",
       "\n",
       "   thread_replies  thread_label_id  \n",
       "0              38                6  \n",
       "1             211                3  \n",
       "2             474               12  \n",
       "3             563               10  \n",
       "4              10                7  "
      ]
     },
     "execution_count": 11,
     "metadata": {},
     "output_type": "execute_result"
    }
   ],
   "source": [
    "thread_test_random.head()"
   ]
  },
  {
   "cell_type": "code",
   "execution_count": 12,
   "metadata": {},
   "outputs": [],
   "source": [
    "opts_out = {'encoding': 'utf-8', 'header': True, 'index': False}"
   ]
  },
  {
   "cell_type": "code",
   "execution_count": 13,
   "metadata": {},
   "outputs": [],
   "source": [
    "thread_train.to_csv(os.path.join(ds_eposts, 'train', 'thread.csv'), **opts_out)\n",
    "thread_test[['thread_num', epost_outcol, epost_usage]].to_csv(\n",
    "    os.path.join(ds_eposts, 'test', 'thread_answers.csv'), **opts_out)\n",
    "thread_test_censored.to_csv(os.path.join(ds_eposts, 'test', 'thread.csv'), **opts_out)\n",
    "thread_test_random.to_csv(os.path.join(ds_eposts, 'test', 'thread_RANDOM.csv'), **opts_out)"
   ]
  },
  {
   "cell_type": "markdown",
   "metadata": {},
   "source": [
    "### Load and save posts dataframe"
   ]
  },
  {
   "cell_type": "code",
   "execution_count": 14,
   "metadata": {},
   "outputs": [],
   "source": [
    "post_train, post_public, post_private = [\n",
    "    pd.read_csv(\n",
    "        os.path.join(ds_eposts, 'raw', '%s_post.csv') % z,\n",
    "        header=0, encoding='utf-8'\n",
    "    )\n",
    "    for z in ['train', 'public', 'private']\n",
    "]\n",
    "# post_public[epost_usage] = 'Public'\n",
    "# post_private[epost_usage] = 'Private'\n",
    "post_test = pd.concat([post_public, post_private], axis='rows')"
   ]
  },
  {
   "cell_type": "code",
   "execution_count": 15,
   "metadata": {},
   "outputs": [],
   "source": [
    "post_train.to_csv(os.path.join(ds_eposts, 'train', 'post.csv'), **opts_out)\n",
    "post_test.to_csv(os.path.join(ds_eposts, 'test', 'post.csv'), **opts_out)"
   ]
  },
  {
   "cell_type": "code",
   "execution_count": null,
   "metadata": {},
   "outputs": [],
   "source": []
  },
  {
   "cell_type": "markdown",
   "metadata": {},
   "source": [
    "-----"
   ]
  },
  {
   "cell_type": "markdown",
   "metadata": {},
   "source": [
    "## MAFIA dataset: Remove role labels"
   ]
  },
  {
   "cell_type": "code",
   "execution_count": 16,
   "metadata": {},
   "outputs": [],
   "source": [
    "ds_mafia = os.path.join(output, 'dataset', 'ds_mafia') "
   ]
  },
  {
   "cell_type": "code",
   "execution_count": 17,
   "metadata": {},
   "outputs": [],
   "source": [
    "os.makedirs(os.path.join(ds_mafia, 'train'), exist_ok=True)\n",
    "os.makedirs(os.path.join(ds_mafia, 'test'), exist_ok=True)"
   ]
  },
  {
   "cell_type": "markdown",
   "metadata": {},
   "source": [
    "### Set labelling scheme"
   ]
  },
  {
   "cell_type": "code",
   "execution_count": 18,
   "metadata": {},
   "outputs": [],
   "source": [
    "mafia_lbl = 'role'\n",
    "mafia_outcol = 'role_id'\n",
    "mafia_usage = 'Usage'"
   ]
  },
  {
   "cell_type": "code",
   "execution_count": 19,
   "metadata": {},
   "outputs": [
    {
     "data": {
      "text/plain": [
       "type_name\n",
       "town     0\n",
       "mafia    1\n",
       "Name: type_id, dtype: int64"
      ]
     },
     "execution_count": 19,
     "metadata": {},
     "output_type": "execute_result"
    }
   ],
   "source": [
    "# possible_labels_mafia = ['town', 'mafia', 'observer', 'ic', 'game-master', 'unknown']\n",
    "possible_labels_mafia = ['town', 'mafia']\n",
    "\n",
    "labels_mafia = pd.Series(range(len(possible_labels_mafia)), index=possible_labels_mafia)\n",
    "labels_mafia.name = 'type_id'\n",
    "labels_mafia.index.name = 'type_name'\n",
    "labels_mafia"
   ]
  },
  {
   "cell_type": "code",
   "execution_count": 20,
   "metadata": {},
   "outputs": [],
   "source": [
    "labels_mafia.to_csv(os.path.join(ds_mafia, 'label_map.csv'), header=True, index=True, encoding='utf-8')"
   ]
  },
  {
   "cell_type": "markdown",
   "metadata": {},
   "source": [
    "### Load labels and save into datasets"
   ]
  },
  {
   "cell_type": "code",
   "execution_count": 21,
   "metadata": {},
   "outputs": [],
   "source": [
    "role_train, role_public, role_private = [\n",
    "    pd.read_csv(\n",
    "        os.path.join(ds_mafia, 'raw', '%s_role_full.csv') % z,\n",
    "        header=0, encoding='utf-8'\n",
    "    )\n",
    "    for z in ['train', 'public', 'private']\n",
    "]\n",
    "role_public[mafia_usage] = 'Public'\n",
    "role_private[mafia_usage] = 'Private'\n",
    "role_test = pd.concat([role_public, role_private], axis='rows')"
   ]
  },
  {
   "cell_type": "code",
   "execution_count": 22,
   "metadata": {},
   "outputs": [],
   "source": [
    "\n",
    "# Set labels\n",
    "role_train[mafia_outcol] = role_train[mafia_lbl].map(labels_mafia)\n",
    "role_test[mafia_outcol] = role_test[mafia_lbl].map(labels_mafia)\n",
    "\n",
    "# Drop labels we aren't considering\n",
    "role_train = role_train.dropna()\n",
    "role_test = role_test.dropna()\n",
    "\n",
    "# Set unique ids\n",
    "def get_id(row):\n",
    "    s = \"%s_%s\" % (row.thread_num, row.user)\n",
    "    return s.replace(' ', '_')  # \n",
    "\n",
    "role_train['uid'] = role_train.apply(get_id, axis='columns')\n",
    "role_test['uid'] = role_test.apply(get_id, axis='columns')\n",
    "\n",
    "# Censor labels \n",
    "role_test_censored = role_test.drop(columns=[mafia_lbl, mafia_outcol, mafia_usage])\n",
    "\n",
    "# Create randomly seeded output\n",
    "mafia_rng = np.random.RandomState(seed=42)\n",
    "role_test_random = role_test_censored.copy()\n",
    "role_test_random[mafia_outcol] = mafia_rng.uniform(0, 1, len(role_test_random))"
   ]
  },
  {
   "cell_type": "code",
   "execution_count": 23,
   "metadata": {},
   "outputs": [
    {
     "data": {
      "text/html": [
       "<div>\n",
       "<style scoped>\n",
       "    .dataframe tbody tr th:only-of-type {\n",
       "        vertical-align: middle;\n",
       "    }\n",
       "\n",
       "    .dataframe tbody tr th {\n",
       "        vertical-align: top;\n",
       "    }\n",
       "\n",
       "    .dataframe thead th {\n",
       "        text-align: right;\n",
       "    }\n",
       "</style>\n",
       "<table border=\"1\" class=\"dataframe\">\n",
       "  <thead>\n",
       "    <tr style=\"text-align: right;\">\n",
       "      <th></th>\n",
       "      <th>thread_num</th>\n",
       "      <th>user</th>\n",
       "      <th>final_player</th>\n",
       "      <th>uid</th>\n",
       "      <th>role_id</th>\n",
       "    </tr>\n",
       "  </thead>\n",
       "  <tbody>\n",
       "    <tr>\n",
       "      <th>0</th>\n",
       "      <td>142461</td>\n",
       "      <td>4maskwolf</td>\n",
       "      <td>4maskwolf</td>\n",
       "      <td>142461_4maskwolf</td>\n",
       "      <td>0.374540</td>\n",
       "    </tr>\n",
       "    <tr>\n",
       "      <th>1</th>\n",
       "      <td>142461</td>\n",
       "      <td>AlleeCat</td>\n",
       "      <td>tn5421</td>\n",
       "      <td>142461_AlleeCat</td>\n",
       "      <td>0.950714</td>\n",
       "    </tr>\n",
       "    <tr>\n",
       "      <th>2</th>\n",
       "      <td>142461</td>\n",
       "      <td>Comrade Shamrock</td>\n",
       "      <td>McDonald</td>\n",
       "      <td>142461_Comrade_Shamrock</td>\n",
       "      <td>0.731994</td>\n",
       "    </tr>\n",
       "    <tr>\n",
       "      <th>3</th>\n",
       "      <td>142461</td>\n",
       "      <td>Krevsin</td>\n",
       "      <td>Krevsin</td>\n",
       "      <td>142461_Krevsin</td>\n",
       "      <td>0.598658</td>\n",
       "    </tr>\n",
       "    <tr>\n",
       "      <th>4</th>\n",
       "      <td>142461</td>\n",
       "      <td>McDonald</td>\n",
       "      <td>McDonald</td>\n",
       "      <td>142461_McDonald</td>\n",
       "      <td>0.156019</td>\n",
       "    </tr>\n",
       "  </tbody>\n",
       "</table>\n",
       "</div>"
      ],
      "text/plain": [
       "   thread_num              user final_player                      uid  \\\n",
       "0      142461         4maskwolf    4maskwolf         142461_4maskwolf   \n",
       "1      142461          AlleeCat       tn5421          142461_AlleeCat   \n",
       "2      142461  Comrade Shamrock     McDonald  142461_Comrade_Shamrock   \n",
       "3      142461           Krevsin      Krevsin           142461_Krevsin   \n",
       "4      142461          McDonald     McDonald          142461_McDonald   \n",
       "\n",
       "    role_id  \n",
       "0  0.374540  \n",
       "1  0.950714  \n",
       "2  0.731994  \n",
       "3  0.598658  \n",
       "4  0.156019  "
      ]
     },
     "execution_count": 23,
     "metadata": {},
     "output_type": "execute_result"
    }
   ],
   "source": [
    "role_test_random.head()"
   ]
  },
  {
   "cell_type": "code",
   "execution_count": null,
   "metadata": {},
   "outputs": [],
   "source": []
  },
  {
   "cell_type": "code",
   "execution_count": 24,
   "metadata": {},
   "outputs": [],
   "source": [
    "opts_out = {'encoding': 'utf-8', 'header': True, 'index': False}"
   ]
  },
  {
   "cell_type": "code",
   "execution_count": 25,
   "metadata": {},
   "outputs": [],
   "source": [
    "role_train.to_csv(os.path.join(ds_mafia, 'train', 'role.csv'), **opts_out)\n",
    "role_test[['uid', mafia_outcol, mafia_usage]].to_csv(os.path.join(ds_mafia, 'test', 'role_answers.csv'), **opts_out)\n",
    "role_test_censored.to_csv(os.path.join(ds_mafia, 'test', 'role.csv'), **opts_out)\n",
    "role_test_random.to_csv(os.path.join(ds_mafia, 'test', 'role_RANDOM.csv'), **opts_out)"
   ]
  },
  {
   "cell_type": "markdown",
   "metadata": {},
   "source": [
    "### Load and save posts dataframe"
   ]
  },
  {
   "cell_type": "code",
   "execution_count": 26,
   "metadata": {},
   "outputs": [],
   "source": [
    "post_train, post_public, post_private = [\n",
    "    pd.read_csv(\n",
    "        os.path.join(ds_mafia, 'raw', '%s_post.csv') % z,\n",
    "        header=0, encoding='utf-8'\n",
    "    )\n",
    "    for z in ['train', 'public', 'private']\n",
    "]\n",
    "# post_public[mafia_usage] = 'Public'\n",
    "# post_private[mafia_usage] = 'Private'\n",
    "post_test = pd.concat([post_public, post_private], axis='rows')"
   ]
  },
  {
   "cell_type": "code",
   "execution_count": 27,
   "metadata": {},
   "outputs": [],
   "source": [
    "post_train.to_csv(os.path.join(ds_mafia, 'train', 'post.csv'), **opts_out)\n",
    "post_test.to_csv(os.path.join(ds_mafia, 'test', 'post.csv'), **opts_out)"
   ]
  }
 ],
 "metadata": {
  "kernelspec": {
   "display_name": "kaggle-bay12",
   "language": "python",
   "name": "kaggle-bay12"
  },
  "language_info": {
   "codemirror_mode": {
    "name": "ipython",
    "version": 3
   },
   "file_extension": ".py",
   "mimetype": "text/x-python",
   "name": "python",
   "nbconvert_exporter": "python",
   "pygments_lexer": "ipython3",
   "version": "3.7.1"
  }
 },
 "nbformat": 4,
 "nbformat_minor": 2
}
