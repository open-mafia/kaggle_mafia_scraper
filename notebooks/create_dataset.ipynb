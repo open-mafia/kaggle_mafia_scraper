{
 "cells": [
  {
   "cell_type": "code",
   "execution_count": 1,
   "metadata": {},
   "outputs": [],
   "source": [
    "import os  \n",
    "import logging \n",
    "import numpy as np\n",
    "import pandas as pd\n",
    "import matplotlib.pyplot as plt"
   ]
  },
  {
   "cell_type": "code",
   "execution_count": 2,
   "metadata": {},
   "outputs": [],
   "source": [
    "from prompt_toolkit.shortcuts import ProgressBar"
   ]
  },
  {
   "cell_type": "code",
   "execution_count": 3,
   "metadata": {},
   "outputs": [],
   "source": [
    "#from bay12_scraper.thread import ForumThread\n",
    "from bay12_scraper.prep import load_or_create_posts"
   ]
  },
  {
   "cell_type": "code",
   "execution_count": 4,
   "metadata": {},
   "outputs": [],
   "source": [
    "%matplotlib inline"
   ]
  },
  {
   "cell_type": "code",
   "execution_count": 5,
   "metadata": {},
   "outputs": [],
   "source": [
    "output = os.path.abspath( os.path.join('..', 'output') )\n",
    "in_dir = os.path.join(output, 'posts')\n",
    "dataset = os.path.join(output, 'dataset') "
   ]
  },
  {
   "cell_type": "code",
   "execution_count": 6,
   "metadata": {},
   "outputs": [],
   "source": [
    "os.makedirs(dataset, exist_ok=True)\n"
   ]
  },
  {
   "cell_type": "markdown",
   "metadata": {},
   "source": [
    "## Preparing full posts"
   ]
  },
  {
   "cell_type": "code",
   "execution_count": 7,
   "metadata": {},
   "outputs": [],
   "source": [
    "# Load threads\n",
    "threads = pd.read_csv(os.path.join(output, 'threads.csv'), header=0, encoding='utf-8')\n",
    "threads = threads[threads.thread_label.isin(['beginners-mafia', 'vanilla'])]"
   ]
  },
  {
   "cell_type": "code",
   "execution_count": 8,
   "metadata": {},
   "outputs": [],
   "source": [
    "# Load roles\n",
    "roles = pd.read_csv(os.path.join(output, 'roles.csv'), header=0, encoding='utf-8')"
   ]
  },
  {
   "cell_type": "code",
   "execution_count": 9,
   "metadata": {},
   "outputs": [],
   "source": [
    "# Load posts (note that creation can take a long time)\n",
    "posts = load_or_create_posts(os.path.join(output, 'posts.csv'), roles, threads)"
   ]
  },
  {
   "cell_type": "code",
   "execution_count": 10,
   "metadata": {},
   "outputs": [
    {
     "data": {
      "text/plain": [
       "(Index(['thread_num', 'user', 'text', 'quotes'], dtype='object'),\n",
       " Index(['thread_num', 'user', 'role', 'num_posts', 'replaced_by'], dtype='object'))"
      ]
     },
     "execution_count": 10,
     "metadata": {},
     "output_type": "execute_result"
    }
   ],
   "source": [
    "posts.columns, roles.columns"
   ]
  },
  {
   "cell_type": "code",
   "execution_count": 11,
   "metadata": {},
   "outputs": [
    {
     "data": {
      "text/html": [
       "<div>\n",
       "<style scoped>\n",
       "    .dataframe tbody tr th:only-of-type {\n",
       "        vertical-align: middle;\n",
       "    }\n",
       "\n",
       "    .dataframe tbody tr th {\n",
       "        vertical-align: top;\n",
       "    }\n",
       "\n",
       "    .dataframe thead th {\n",
       "        text-align: right;\n",
       "    }\n",
       "</style>\n",
       "<table border=\"1\" class=\"dataframe\">\n",
       "  <thead>\n",
       "    <tr style=\"text-align: right;\">\n",
       "      <th></th>\n",
       "      <th>thread_num</th>\n",
       "      <th>user</th>\n",
       "      <th>text</th>\n",
       "      <th>role</th>\n",
       "      <th>num_posts</th>\n",
       "      <th>quotes</th>\n",
       "    </tr>\n",
       "  </thead>\n",
       "  <tbody>\n",
       "    <tr>\n",
       "      <th>0</th>\n",
       "      <td>39457</td>\n",
       "      <td>Mephansteras</td>\n",
       "      <td>There was some talk about a beginners mafia ga...</td>\n",
       "      <td>game-master</td>\n",
       "      <td>61</td>\n",
       "      <td>[]</td>\n",
       "    </tr>\n",
       "    <tr>\n",
       "      <th>1</th>\n",
       "      <td>39457</td>\n",
       "      <td>Pandarsenic</td>\n",
       "      <td>*Cough*\\r\\r\\nI'd join.</td>\n",
       "      <td>observer</td>\n",
       "      <td>13</td>\n",
       "      <td>[]</td>\n",
       "    </tr>\n",
       "    <tr>\n",
       "      <th>2</th>\n",
       "      <td>39457</td>\n",
       "      <td>Org</td>\n",
       "      <td>Im in.</td>\n",
       "      <td>town</td>\n",
       "      <td>22</td>\n",
       "      <td>[]</td>\n",
       "    </tr>\n",
       "    <tr>\n",
       "      <th>3</th>\n",
       "      <td>39457</td>\n",
       "      <td>Mephansteras</td>\n",
       "      <td>*sigh*\\r\\r\\n\\r\\r\\nOk, how about people who hav...</td>\n",
       "      <td>game-master</td>\n",
       "      <td>61</td>\n",
       "      <td>[]</td>\n",
       "    </tr>\n",
       "    <tr>\n",
       "      <th>4</th>\n",
       "      <td>39457</td>\n",
       "      <td>Jim Groovester</td>\n",
       "      <td>I... may join. Just to see what the hell is so...</td>\n",
       "      <td>town</td>\n",
       "      <td>55</td>\n",
       "      <td>[]</td>\n",
       "    </tr>\n",
       "  </tbody>\n",
       "</table>\n",
       "</div>"
      ],
      "text/plain": [
       "   thread_num            user  \\\n",
       "0       39457    Mephansteras   \n",
       "1       39457     Pandarsenic   \n",
       "2       39457             Org   \n",
       "3       39457    Mephansteras   \n",
       "4       39457  Jim Groovester   \n",
       "\n",
       "                                                text         role  num_posts  \\\n",
       "0  There was some talk about a beginners mafia ga...  game-master         61   \n",
       "1                            *Cough*\\r\\r\\nI'd join.      observer         13   \n",
       "2                                             Im in.         town         22   \n",
       "3  *sigh*\\r\\r\\n\\r\\r\\nOk, how about people who hav...  game-master         61   \n",
       "4  I... may join. Just to see what the hell is so...         town         55   \n",
       "\n",
       "  quotes  \n",
       "0     []  \n",
       "1     []  \n",
       "2     []  \n",
       "3     []  \n",
       "4     []  "
      ]
     },
     "execution_count": 11,
     "metadata": {},
     "output_type": "execute_result"
    }
   ],
   "source": [
    "pp = (\n",
    "    posts\n",
    "    .merge(roles, on=['thread_num', 'user'], how='left')\n",
    ")[['thread_num', 'user','text', 'role', 'num_posts', 'quotes']]\n",
    "pp.head()"
   ]
  },
  {
   "cell_type": "code",
   "execution_count": 12,
   "metadata": {},
   "outputs": [],
   "source": [
    "t_nums = sorted(pp['thread_num'].unique())\n"
   ]
  },
  {
   "cell_type": "code",
   "execution_count": null,
   "metadata": {},
   "outputs": [],
   "source": []
  }
 ],
 "metadata": {
  "kernelspec": {
   "display_name": "Python 3",
   "language": "python",
   "name": "python3"
  },
  "language_info": {
   "codemirror_mode": {
    "name": "ipython",
    "version": 3
   },
   "file_extension": ".py",
   "mimetype": "text/x-python",
   "name": "python",
   "nbconvert_exporter": "python",
   "pygments_lexer": "ipython3",
   "version": "3.7.1"
  }
 },
 "nbformat": 4,
 "nbformat_minor": 2
}
