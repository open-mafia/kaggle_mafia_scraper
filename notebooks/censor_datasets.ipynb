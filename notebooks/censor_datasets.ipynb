{
 "cells": [
  {
   "cell_type": "markdown",
   "metadata": {},
   "source": [
    "# Censors datasets of their labels"
   ]
  },
  {
   "cell_type": "code",
   "execution_count": 1,
   "metadata": {},
   "outputs": [],
   "source": [
    "import os\n",
    "import pandas as pd\n"
   ]
  },
  {
   "cell_type": "code",
   "execution_count": 2,
   "metadata": {},
   "outputs": [],
   "source": [
    "output = os.path.abspath( os.path.join('..', 'output') )"
   ]
  },
  {
   "cell_type": "code",
   "execution_count": 3,
   "metadata": {},
   "outputs": [],
   "source": [
    "all_sets = ['train', 'public', 'private']\n",
    "to_censor = ['public', 'private']"
   ]
  },
  {
   "cell_type": "markdown",
   "metadata": {},
   "source": [
    "## EPOSTS dataset: Remove thread labels"
   ]
  },
  {
   "cell_type": "code",
   "execution_count": 4,
   "metadata": {},
   "outputs": [],
   "source": [
    "ds_eposts = os.path.join(output, 'dataset', 'ds_eposts')\n",
    "for z in all_sets:\n",
    "    p_full = os.path.join(ds_eposts, '%s_thread_full.csv' % z)\n",
    "    p_result = os.path.join(ds_eposts, '%s_thread.csv' % z)\n",
    "    opts_out = {'encoding': 'utf-8', 'header': True, 'index': False}\n",
    "    \n",
    "    thread = pd.read_csv(p_full, header=0, encoding='utf-8')\n",
    "\n",
    "    if z in to_censor:\n",
    "        thread['thread_label'] = float('nan')\n",
    "\n",
    "    thread.to_csv(p_result, **opts_out)"
   ]
  },
  {
   "cell_type": "markdown",
   "metadata": {},
   "source": [
    "## MAFIA dataset: Remove role labels"
   ]
  },
  {
   "cell_type": "code",
   "execution_count": 5,
   "metadata": {},
   "outputs": [],
   "source": [
    "ds_mafia = os.path.join(output, 'dataset', 'ds_mafia') \n",
    "for z in all_sets:\n",
    "    p_full = os.path.join(ds_mafia, '%s_role_full.csv' % z)\n",
    "    p_result = os.path.join(ds_mafia, '%s_role.csv' % z)\n",
    "    opts_out = {'encoding': 'utf-8', 'header': True, 'index': False}\n",
    "    \n",
    "    roles = pd.read_csv(p_full, header=0, encoding='utf-8')\n",
    "\n",
    "    if z in to_censor:\n",
    "        roles['role'] = float('nan')\n",
    "\n",
    "    roles.to_csv(p_result, **opts_out)"
   ]
  },
  {
   "cell_type": "code",
   "execution_count": null,
   "metadata": {},
   "outputs": [],
   "source": []
  }
 ],
 "metadata": {
  "kernelspec": {
   "display_name": "kaggle-bay12",
   "language": "python",
   "name": "kaggle-bay12"
  },
  "language_info": {
   "codemirror_mode": {
    "name": "ipython",
    "version": 3
   },
   "file_extension": ".py",
   "mimetype": "text/x-python",
   "name": "python",
   "nbconvert_exporter": "python",
   "pygments_lexer": "ipython3",
   "version": "3.7.1"
  }
 },
 "nbformat": 4,
 "nbformat_minor": 2
}
