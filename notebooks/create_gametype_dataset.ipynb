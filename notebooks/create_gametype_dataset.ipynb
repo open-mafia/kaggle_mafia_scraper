{
 "cells": [
  {
   "cell_type": "markdown",
   "metadata": {},
   "source": [
    "# Creates the Gametype problem datasets (train, public and private test)"
   ]
  },
  {
   "cell_type": "code",
   "execution_count": 1,
   "metadata": {},
   "outputs": [],
   "source": [
    "import os  \n",
    "import logging \n",
    "import numpy as np\n",
    "import pandas as pd"
   ]
  },
  {
   "cell_type": "code",
   "execution_count": 2,
   "metadata": {},
   "outputs": [],
   "source": [
    "from bay12_scraper.prep.eposts_ds import load_or_create_extended_posts, split_extended_ds"
   ]
  },
  {
   "cell_type": "code",
   "execution_count": 3,
   "metadata": {},
   "outputs": [],
   "source": [
    "output = os.path.abspath( os.path.join('..', 'output') )"
   ]
  },
  {
   "cell_type": "markdown",
   "metadata": {},
   "source": [
    "## Preparing full posts"
   ]
  },
  {
   "cell_type": "code",
   "execution_count": 4,
   "metadata": {},
   "outputs": [],
   "source": [
    "# Load threads\n",
    "threads = pd.read_csv(os.path.join(output, 'threads.csv'), header=0, encoding='utf-8')"
   ]
  },
  {
   "cell_type": "code",
   "execution_count": 5,
   "metadata": {},
   "outputs": [
    {
     "name": "stdout",
     "output_type": "stream",
     "text": [
      "(594, 5)\n"
     ]
    },
    {
     "data": {
      "text/html": [
       "<div>\n",
       "<style scoped>\n",
       "    .dataframe tbody tr th:only-of-type {\n",
       "        vertical-align: middle;\n",
       "    }\n",
       "\n",
       "    .dataframe tbody tr th {\n",
       "        vertical-align: top;\n",
       "    }\n",
       "\n",
       "    .dataframe thead th {\n",
       "        text-align: right;\n",
       "    }\n",
       "</style>\n",
       "<table border=\"1\" class=\"dataframe\">\n",
       "  <thead>\n",
       "    <tr style=\"text-align: right;\">\n",
       "      <th></th>\n",
       "      <th>url</th>\n",
       "      <th>thread_num</th>\n",
       "      <th>thread_name</th>\n",
       "      <th>thread_label</th>\n",
       "      <th>thread_replies</th>\n",
       "    </tr>\n",
       "  </thead>\n",
       "  <tbody>\n",
       "    <tr>\n",
       "      <th>0</th>\n",
       "      <td>http://www.bay12forums.com/smf/index.php?topic...</td>\n",
       "      <td>134925</td>\n",
       "      <td>Mafia Setup Discussion and Review</td>\n",
       "      <td>other</td>\n",
       "      <td>598</td>\n",
       "    </tr>\n",
       "    <tr>\n",
       "      <th>1</th>\n",
       "      <td>http://www.bay12forums.com/smf/index.php?topic...</td>\n",
       "      <td>45016</td>\n",
       "      <td>Games Threshold Discussion and List [Vote for ...</td>\n",
       "      <td>other</td>\n",
       "      <td>5703</td>\n",
       "    </tr>\n",
       "  </tbody>\n",
       "</table>\n",
       "</div>"
      ],
      "text/plain": [
       "                                                 url  thread_num  \\\n",
       "0  http://www.bay12forums.com/smf/index.php?topic...      134925   \n",
       "1  http://www.bay12forums.com/smf/index.php?topic...       45016   \n",
       "\n",
       "                                         thread_name thread_label  \\\n",
       "0                  Mafia Setup Discussion and Review        other   \n",
       "1  Games Threshold Discussion and List [Vote for ...        other   \n",
       "\n",
       "   thread_replies  \n",
       "0             598  \n",
       "1            5703  "
      ]
     },
     "execution_count": 5,
     "metadata": {},
     "output_type": "execute_result"
    }
   ],
   "source": [
    "print(threads.shape)\n",
    "threads.head(2)"
   ]
  },
  {
   "cell_type": "code",
   "execution_count": 6,
   "metadata": {},
   "outputs": [
    {
     "name": "stdout",
     "output_type": "stream",
     "text": [
      "TOTAL THREADS: 594\n",
      "Saved threads: 39\n",
      "Saved threads: 59\n",
      "Saved threads: 79\n",
      "Saved threads: 99\n",
      "Saved threads: 119\n",
      "Saved threads: 139\n",
      "Saved threads: 159\n",
      "Saved threads: 179\n",
      "Saved threads: 199\n",
      "Saved threads: 219\n",
      "Saved threads: 239\n",
      "Saved threads: 259\n",
      "Saved threads: 279\n",
      "Saved threads: 299\n",
      "Saved threads: 319\n",
      "Saved threads: 339\n",
      "Saved threads: 359\n",
      "Saved threads: 379\n",
      "Saved threads: 399\n",
      "Saved threads: 419\n",
      "Saved threads: 439\n",
      "Saved threads: 459\n",
      "Saved threads: 479\n",
      "Saved threads: 499\n",
      "Saved threads: 519\n",
      "Saved threads: 539\n",
      "Saved threads: 559\n",
      "Saved threads: 579\n"
     ]
    }
   ],
   "source": [
    "# Load posts (note that initial creation will take a long time)\n",
    "eposts = load_or_create_extended_posts(\n",
    "    fname=os.path.join(output, 'extended_posts.csv'), \n",
    "    threads=threads, incremental=True, timeout=10, limit=None, \n",
    ")"
   ]
  },
  {
   "cell_type": "code",
   "execution_count": 7,
   "metadata": {},
   "outputs": [
    {
     "name": "stdout",
     "output_type": "stream",
     "text": [
      "(196466, 4)\n"
     ]
    },
    {
     "data": {
      "text/html": [
       "<div>\n",
       "<style scoped>\n",
       "    .dataframe tbody tr th:only-of-type {\n",
       "        vertical-align: middle;\n",
       "    }\n",
       "\n",
       "    .dataframe tbody tr th {\n",
       "        vertical-align: top;\n",
       "    }\n",
       "\n",
       "    .dataframe thead th {\n",
       "        text-align: right;\n",
       "    }\n",
       "</style>\n",
       "<table border=\"1\" class=\"dataframe\">\n",
       "  <thead>\n",
       "    <tr style=\"text-align: right;\">\n",
       "      <th></th>\n",
       "      <th>thread_num</th>\n",
       "      <th>user</th>\n",
       "      <th>text</th>\n",
       "      <th>quotes</th>\n",
       "    </tr>\n",
       "  </thead>\n",
       "  <tbody>\n",
       "    <tr>\n",
       "      <th>0</th>\n",
       "      <td>134925</td>\n",
       "      <td>Leafsnail</td>\n",
       "      <td>This thread is for:\\r\\n- Discussing proposed o...</td>\n",
       "      <td>[]</td>\n",
       "    </tr>\n",
       "    <tr>\n",
       "      <th>1</th>\n",
       "      <td>134925</td>\n",
       "      <td>Leafsnail</td>\n",
       "      <td>(from the previous thread)\\r\\n QUOTED_SECTION ...</td>\n",
       "      <td>[&lt;blockquote class=\"bbc_standard_quote\"&gt;Quantu...</td>\n",
       "    </tr>\n",
       "  </tbody>\n",
       "</table>\n",
       "</div>"
      ],
      "text/plain": [
       "   thread_num       user                                               text  \\\n",
       "0      134925  Leafsnail  This thread is for:\\r\\n- Discussing proposed o...   \n",
       "1      134925  Leafsnail  (from the previous thread)\\r\\n QUOTED_SECTION ...   \n",
       "\n",
       "                                              quotes  \n",
       "0                                                 []  \n",
       "1  [<blockquote class=\"bbc_standard_quote\">Quantu...  "
      ]
     },
     "execution_count": 7,
     "metadata": {},
     "output_type": "execute_result"
    }
   ],
   "source": [
    "print(eposts.shape)\n",
    "eposts.head(2)"
   ]
  },
  {
   "cell_type": "code",
   "execution_count": null,
   "metadata": {},
   "outputs": [],
   "source": []
  },
  {
   "cell_type": "markdown",
   "metadata": {},
   "source": [
    "## Split into train/test by threads"
   ]
  },
  {
   "cell_type": "code",
   "execution_count": 8,
   "metadata": {},
   "outputs": [],
   "source": [
    "ds = split_extended_ds(threads, eposts, 0.2, 0.2)\n",
    "# {'train': [posts_train, threads_train], etc. }"
   ]
  },
  {
   "cell_type": "code",
   "execution_count": 9,
   "metadata": {},
   "outputs": [
    {
     "name": "stdout",
     "output_type": "stream",
     "text": [
      "358 threads, 97539 posts\n",
      "118 threads, 44778 posts\n",
      "118 threads, 54149 posts\n"
     ]
    }
   ],
   "source": [
    "print(\"\\n\".join([\n",
    "    \"%s threads, %s posts\" % (len(ds[z][0].groupby('thread_num').thread_num.count()), len(ds[z][0])) \n",
    "     for z in ['train', 'public', 'private']\n",
    "]))"
   ]
  },
  {
   "cell_type": "markdown",
   "metadata": {},
   "source": [
    "## Export to disk"
   ]
  },
  {
   "cell_type": "code",
   "execution_count": 10,
   "metadata": {},
   "outputs": [],
   "source": [
    "dataset = os.path.join(output, 'dataset', 'ds_eposts') \n",
    "os.makedirs(dataset, exist_ok=True)"
   ]
  },
  {
   "cell_type": "code",
   "execution_count": 11,
   "metadata": {},
   "outputs": [],
   "source": [
    "opts_out = {'encoding': 'utf-8', 'header': True, 'index': False}\n",
    "cols_thread = ['thread_num', 'thread_name', 'thread_label', 'thread_replies']\n",
    "cols_post = list(eposts.columns)"
   ]
  },
  {
   "cell_type": "code",
   "execution_count": 12,
   "metadata": {},
   "outputs": [],
   "source": [
    "for z in ['train', 'public', 'private']:\n",
    "    ds[z][0][cols_post].to_csv(os.path.join(dataset, '%s_post.csv' % z), **opts_out)\n",
    "    ds[z][1][cols_thread].to_csv(os.path.join(dataset, '%s_thread.csv' % z), **opts_out)"
   ]
  },
  {
   "cell_type": "code",
   "execution_count": null,
   "metadata": {},
   "outputs": [],
   "source": []
  }
 ],
 "metadata": {
  "kernelspec": {
   "display_name": "kaggle-bay12",
   "language": "python",
   "name": "kaggle-bay12"
  },
  "language_info": {
   "codemirror_mode": {
    "name": "ipython",
    "version": 3
   },
   "file_extension": ".py",
   "mimetype": "text/x-python",
   "name": "python",
   "nbconvert_exporter": "python",
   "pygments_lexer": "ipython3",
   "version": "3.7.1"
  }
 },
 "nbformat": 4,
 "nbformat_minor": 2
}
