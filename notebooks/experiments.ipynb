{
 "cells": [
  {
   "cell_type": "code",
   "execution_count": 54,
   "metadata": {},
   "outputs": [],
   "source": [
    "try: \n",
    "    from BeautifulSoup import BeautifulSoup\n",
    "except ImportError:\n",
    "    from bs4 import BeautifulSoup\n",
    "import requests\n",
    "import re  # regular expressions"
   ]
  },
  {
   "cell_type": "code",
   "execution_count": 49,
   "metadata": {},
   "outputs": [],
   "source": [
    "url = \"http://www.bay12forums.com/smf/index.php?topic=42347.0\"\n",
    "\n",
    "#response = requests.get(url + \"&action=.xml\") \n",
    "#xml = BeautifulSoup(response.text, 'lxml') \n",
    "\n",
    "response = requests.get(url) \n",
    "parsed_html = BeautifulSoup(response.text, 'html.parser') \n"
   ]
  },
  {
   "cell_type": "markdown",
   "metadata": {},
   "source": [
    "The following code gets the number of pages:"
   ]
  },
  {
   "cell_type": "code",
   "execution_count": 52,
   "metadata": {},
   "outputs": [],
   "source": [
    "page_html = (\n",
    "    parsed_html\n",
    "    .find(\"div\",{\"id\":\"postbuttons\"})\n",
    "    .find(\"div\",{\"class\":\"margintop middletext floatleft\"})\n",
    ")\n",
    "nav_pages = page_html.find_all(\"a\",{\"class\":\"navPages\"})\n",
    "num_pages = 0\n",
    "for p in nav_pages:\n",
    "    x = int(p.text)\n",
    "    if (x>num_pages):\n",
    "        num_pages = x"
   ]
  },
  {
   "cell_type": "code",
   "execution_count": 53,
   "metadata": {},
   "outputs": [
    {
     "data": {
      "text/plain": [
       "27"
      ]
     },
     "execution_count": 53,
     "metadata": {},
     "output_type": "execute_result"
    }
   ],
   "source": [
    "num_pages"
   ]
  },
  {
   "cell_type": "code",
   "execution_count": 57,
   "metadata": {},
   "outputs": [],
   "source": [
    "base_regex = re.compile(r\".*topic=[0-9]+\\.\") #r\".*topic=[0-9]+\\.\"\n",
    "base_url = base_regex.findall(url)[0]"
   ]
  },
  {
   "cell_type": "code",
   "execution_count": 58,
   "metadata": {},
   "outputs": [
    {
     "data": {
      "text/plain": [
       "'http://www.bay12forums.com/smf/index.php?topic=42347.'"
      ]
     },
     "execution_count": 58,
     "metadata": {},
     "output_type": "execute_result"
    }
   ],
   "source": [
    "base_url"
   ]
  },
  {
   "cell_type": "code",
   "execution_count": 66,
   "metadata": {},
   "outputs": [],
   "source": [
    "tn_reg = r\"\\?.*topic=[0-9]+\\.\"\n",
    "tn_s = r'topic='\n",
    "topic_num_raw = (\n",
    "    re.compile(tn_reg).findall(url)[0]\n",
    ")\n",
    "topic_num = int(\n",
    "    topic_num_raw[topic_num_raw.find(tn_s)+len(tn_s):-1]\n",
    ")"
   ]
  },
  {
   "cell_type": "code",
   "execution_count": 67,
   "metadata": {},
   "outputs": [
    {
     "data": {
      "text/plain": [
       "42347"
      ]
     },
     "execution_count": 67,
     "metadata": {},
     "output_type": "execute_result"
    }
   ],
   "source": [
    "topic_num"
   ]
  },
  {
   "cell_type": "code",
   "execution_count": 70,
   "metadata": {},
   "outputs": [],
   "source": [
    "forum_base = r\"http://www.bay12forums.com/smf/index.php\"\n",
    "url_str = \"{forum_base}?topic={topic_num}.{starting_post_num}\"\n"
   ]
  },
  {
   "cell_type": "code",
   "execution_count": null,
   "metadata": {},
   "outputs": [],
   "source": []
  }
 ],
 "metadata": {
  "kernelspec": {
   "display_name": "Python 3",
   "language": "python",
   "name": "python3"
  },
  "language_info": {
   "codemirror_mode": {
    "name": "ipython",
    "version": 3
   },
   "file_extension": ".py",
   "mimetype": "text/x-python",
   "name": "python",
   "nbconvert_exporter": "python",
   "pygments_lexer": "ipython3",
   "version": "3.6.4"
  }
 },
 "nbformat": 4,
 "nbformat_minor": 2
}
